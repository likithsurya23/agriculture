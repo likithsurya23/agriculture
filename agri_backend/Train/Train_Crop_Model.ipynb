{
 "cells": [
  {
   "cell_type": "code",
   "execution_count": null,
   "id": "55d86294",
   "metadata": {},
   "outputs": [],
   "source": [
    "\n",
    "import pandas as pd\n",
    "import numpy as np\n",
    "import matplotlib.pyplot as plt\n",
    "import seaborn as sns\n",
    "from sklearn.model_selection import train_test_split\n",
    "from sklearn.preprocessing import LabelEncoder, StandardScaler\n",
    "from sklearn.metrics import accuracy_score\n",
    "from tensorflow.keras.models import Sequential\n",
    "from tensorflow.keras.layers import Dense, Dropout\n",
    "from tensorflow.keras.utils import to_categorical\n",
    "from tensorflow.keras.optimizers import Adam\n",
    "    "
   ]
  },
  {
   "cell_type": "code",
   "execution_count": null,
   "id": "01a3c4e2",
   "metadata": {},
   "outputs": [],
   "source": [
    "\n",
    "# Define file paths\n",
    "script_dir = 'D:/Projects/agriculture/agri_backend/Train/DataSets/'\n",
    "\n",
    "# Load datasets\n",
    "crop_rec_df = pd.read_csv(script_dir + 'Crop_recommendation.csv')\n",
    "crop_data_df = pd.read_csv(script_dir + 'crop_data.csv')\n",
    "fertilizer_df = pd.read_csv(script_dir + 'Fertilizer.csv')\n",
    "\n",
    "# Strip spaces and make all column names lowercase\n",
    "crop_rec_df.columns = crop_rec_df.columns.str.strip().str.lower()\n",
    "crop_data_df.columns = crop_data_df.columns.str.strip().str.lower()\n",
    "fertilizer_df.columns = fertilizer_df.columns.str.strip().str.lower()\n",
    "\n",
    "# Normalize crop column to lowercase\n",
    "crop_rec_df[\"crop\"] = crop_rec_df[\"label\"].str.strip().str.lower()\n",
    "crop_data_df[\"crop\"] = crop_data_df[\"crop\"].str.strip().str.lower()\n",
    "\n",
    "# Merge datasets\n",
    "combined_df = pd.merge(crop_rec_df, crop_data_df, on=\"crop\", how=\"inner\")\n",
    "combined_df = pd.merge(combined_df, fertilizer_df, on=\"crop\", how=\"left\")\n",
    "\n",
    "# Clean up missing data\n",
    "combined_df = combined_df.dropna()\n",
    "\n",
    "# Check for duplicates\n",
    "combined_df = combined_df.drop_duplicates()\n",
    "combined_df.head()\n",
    "    "
   ]
  },
  {
   "cell_type": "code",
   "execution_count": null,
   "id": "c19eac43",
   "metadata": {},
   "outputs": [],
   "source": [
    "\n",
    "# Prepare features and target variables\n",
    "X = combined_df.drop(['crop', 'label'], axis=1)\n",
    "y = combined_df['label']\n",
    "\n",
    "# Encode target variable (label) as numerical values\n",
    "le = LabelEncoder()\n",
    "y_encoded = le.fit_transform(y)\n",
    "y_categorical = to_categorical(y_encoded)\n",
    "\n",
    "# Standardize features\n",
    "scaler = StandardScaler()\n",
    "X_scaled = scaler.fit_transform(X)\n",
    "\n",
    "# Split data into training and testing sets\n",
    "X_train, X_test, y_train, y_test = train_test_split(X_scaled, y_categorical, test_size=0.2, random_state=42)\n",
    "    "
   ]
  },
  {
   "cell_type": "code",
   "execution_count": null,
   "id": "da7b8762",
   "metadata": {},
   "outputs": [],
   "source": [
    "\n",
    "# Build the Deep Neural Network model\n",
    "model = Sequential([\n",
    "    Dense(128, activation='relu', input_shape=(X.shape[1],)),\n",
    "    Dropout(0.3),\n",
    "    Dense(64, activation='relu'),\n",
    "    Dropout(0.3),\n",
    "    Dense(y_categorical.shape[1], activation='softmax')\n",
    "])\n",
    "\n",
    "# Compile the model\n",
    "model.compile(optimizer=Adam(), loss='categorical_crossentropy', metrics=['accuracy'])\n",
    "    "
   ]
  },
  {
   "cell_type": "code",
   "execution_count": null,
   "id": "9c654e45",
   "metadata": {},
   "outputs": [],
   "source": [
    "\n",
    "# Train the model\n",
    "history = model.fit(X_train, y_train, epochs=50, batch_size=32, validation_split=0.1, verbose=1)\n",
    "    "
   ]
  },
  {
   "cell_type": "code",
   "execution_count": null,
   "id": "89c3bb1b",
   "metadata": {},
   "outputs": [],
   "source": [
    "\n",
    "# Evaluate the model on the test data\n",
    "y_pred_probs = model.predict(X_test)\n",
    "y_pred = np.argmax(y_pred_probs, axis=1)\n",
    "y_true = np.argmax(y_test, axis=1)\n",
    "\n",
    "# Calculate accuracy\n",
    "accuracy = accuracy_score(y_true, y_pred)\n",
    "print(f'Model Accuracy: {accuracy * 100:.2f}%')\n",
    "    "
   ]
  },
  {
   "cell_type": "code",
   "execution_count": null,
   "id": "483e6945",
   "metadata": {},
   "outputs": [],
   "source": [
    "\n",
    "# Plot the training and validation loss\n",
    "plt.figure(figsize=(10, 6))\n",
    "plt.plot(history.history['loss'], label='Training Loss')\n",
    "plt.plot(history.history['val_loss'], label='Validation Loss')\n",
    "plt.title('Training and Validation Loss')\n",
    "plt.xlabel('Epochs')\n",
    "plt.ylabel('Loss')\n",
    "plt.legend()\n",
    "plt.show()\n",
    "\n",
    "# Plot the training and validation accuracy\n",
    "plt.figure(figsize=(10, 6))\n",
    "plt.plot(history.history['accuracy'], label='Training Accuracy')\n",
    "plt.plot(history.history['val_accuracy'], label='Validation Accuracy')\n",
    "plt.title('Training and Validation Accuracy')\n",
    "plt.xlabel('Epochs')\n",
    "plt.ylabel('Accuracy')\n",
    "plt.legend()\n",
    "plt.show()\n",
    "    "
   ]
  }
 ],
 "metadata": {
  "kernelspec": {
   "display_name": "agri",
   "language": "python",
   "name": "python3"
  },
  "language_info": {
   "codemirror_mode": {
    "name": "ipython",
    "version": 3
   },
   "file_extension": ".py",
   "mimetype": "text/x-python",
   "name": "python",
   "nbconvert_exporter": "python",
   "pygments_lexer": "ipython3",
   "version": "3.12.9"
  }
 },
 "nbformat": 4,
 "nbformat_minor": 5
}
